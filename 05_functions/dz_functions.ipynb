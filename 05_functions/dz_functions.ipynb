{
 "cells": [
  {
   "cell_type": "markdown",
   "metadata": {},
   "source": [
    "Вы работаете секретарем и вам постоянно приходят различные документы. Вы должны быть очень внимательны, чтобы не потерять ни один документ. Каталог документов хранится в следующем виде:"
   ]
  },
  {
   "cell_type": "code",
   "execution_count": 1,
   "metadata": {},
   "outputs": [],
   "source": [
    "documents = [\n",
    "    {'type': 'passport', 'number': '2207 876234', 'name': 'Василий Гупкин'},\n",
    "    {'type': 'invoice', 'number': '11-2', 'name': 'Геннадий Покемонов'},\n",
    "    {'type': 'insurance', 'number': '10006', 'name': 'Аристарх Павлов'}\n",
    "]"
   ]
  },
  {
   "cell_type": "markdown",
   "metadata": {},
   "source": [
    "Перечень полок, на которых находятся документы хранится в следующем виде:"
   ]
  },
  {
   "cell_type": "code",
   "execution_count": 2,
   "metadata": {},
   "outputs": [],
   "source": [
    "directories = {\n",
    "    '1': ['2207 876234', '11-2'],\n",
    "    '2': ['10006'],\n",
    "    '3': []\n",
    "}"
   ]
  },
  {
   "cell_type": "code",
   "execution_count": 20,
   "metadata": {},
   "outputs": [],
   "source": [
    "def num_doc(number_doc):\n",
    "    for doc in documents:\n",
    "        if doc['number'] == number_doc:\n",
    "            print(doc['name'])"
   ]
  },
  {
   "cell_type": "code",
   "execution_count": 4,
   "metadata": {},
   "outputs": [],
   "source": [
    "def num_doc_in_dir(number_doc):\n",
    "    docs_all = []\n",
    "    for directory in [doc for doc in directories.values()]:\n",
    "        for doc in directory:\n",
    "            docs_all.append(doc)\n",
    "    if number_doc in docs_all:\n",
    "        print([diction for diction, docs in directories.items() if number_doc in docs])\n",
    "    else:\n",
    "        print('нет такого документа')"
   ]
  },
  {
   "cell_type": "code",
   "execution_count": 5,
   "metadata": {},
   "outputs": [],
   "source": [
    "def doc_list(documents_list):\n",
    "    for doc in documents_list:\n",
    "            print(f\"{doc['type']} \\\"{doc['number']}\\\" \\\"{doc['name']}\\\"\")"
   ]
  },
  {
   "cell_type": "code",
   "execution_count": 6,
   "metadata": {},
   "outputs": [],
   "source": [
    "def doc_add_dir(num_dict):\n",
    "    if num_dict in [doc for doc in directories.keys()]:\n",
    "        print('Такая полка уже есть')\n",
    "    else:\n",
    "        directories[num_dict] = []    "
   ]
  },
  {
   "cell_type": "code",
   "execution_count": 17,
   "metadata": {},
   "outputs": [],
   "source": [
    "def doc_del(num_doc):\n",
    "    docs_all = []\n",
    "    for directory in [doc for doc in directories.values()]:\n",
    "        for doc in directory:\n",
    "            docs_all.append(doc)\n",
    "    if num_doc in docs_all:\n",
    "        for i, doc in enumerate(documents):\n",
    "            if doc['number'] == num_doc:\n",
    "                documents.remove(documents[i])\n",
    "        for directory, docs in directories.items():\n",
    "            if num_doc in directories[directory]:\n",
    "                directories[directory].remove(num_doc)\n",
    "    else: \n",
    "        print('нет такого документа')"
   ]
  },
  {
   "cell_type": "code",
   "execution_count": 8,
   "metadata": {},
   "outputs": [],
   "source": [
    "def doc_move(num_doc, num_dir):\n",
    "    docs_all = []\n",
    "    for directory in [doc for doc in directories.values()]:\n",
    "        for doc in directory:\n",
    "            docs_all.append(doc)\n",
    "    if (num_doc not in docs_all) and num_dir in [directory for directory in directories.keys()]:\n",
    "        print('нет такого документа')\n",
    "    elif (num_doc in docs_all) and num_dir not in [directory for directory in directories.keys()]:\n",
    "        print('нет такой полки')\n",
    "    elif (num_doc not in docs_all) and num_dir not in [directory for directory in directories.keys()]:\n",
    "        print('нет такого документа и нет такой полки')\n",
    "    else: \n",
    "        for directory, docs in directories.items():\n",
    "            if num_doc in directories[directory]:\n",
    "                directories[directory].remove(num_doc)\n",
    "            if num_dir == directory:\n",
    "                directories[directory].append(num_doc)"
   ]
  },
  {
   "cell_type": "code",
   "execution_count": 9,
   "metadata": {},
   "outputs": [],
   "source": [
    "def doc_global_add(num_doc, num_type, name, num_dir):\n",
    "    if num_dir not in [directory for directory in directories.keys()]:\n",
    "        print('нет такой полки')\n",
    "    else:\n",
    "        for directory, docs in directories.items():\n",
    "            if num_dir == directory:\n",
    "                directories[directory].append(num_doc)\n",
    "        documents.append({'type': num_type, 'number': num_doc, 'name': name})"
   ]
  },
  {
   "cell_type": "code",
   "execution_count": 15,
   "metadata": {},
   "outputs": [],
   "source": [
    "def main():\n",
    "    while True:\n",
    "        user_input = input('Введите команду ')\n",
    "        if user_input == 'p':\n",
    "            user_input_p = input('Введите номер документа ')\n",
    "            num_doc(user_input_p)\n",
    "        elif user_input == 's':\n",
    "            user_input_s = input('Введите номер документа ')\n",
    "            num_doc_in_dir(user_input_s)\n",
    "        elif user_input == 'l':\n",
    "            doc_list(documents)\n",
    "        elif user_input == 'as':\n",
    "            user_input_as = input('Введите номер новой полки ')\n",
    "            doc_add_dir(user_input_as)\n",
    "        elif user_input == 'd':\n",
    "            user_input_d = input('Введите номер документа ')\n",
    "            doc_del(user_input_d)\n",
    "        elif user_input == 'm':\n",
    "            user_input_m_doc = input('Введите номер документа ')\n",
    "            user_input_m_dir = input('Введите новой полки ')\n",
    "            doc_move(user_input_m_doc, user_input_m_dir)\n",
    "        elif user_input == 'a':\n",
    "            user_input_m_doc = input('Введите номер документа ')\n",
    "            user_input_m_type = input('Введите тип документа ')\n",
    "            user_input_m_name = input('Введите владельца документа ')\n",
    "            user_input_m_dir = input('Введите номер полки ')\n",
    "            doc_global_add(user_input_m_doc, user_input_m_type, user_input_m_name, user_input_m_dir)\n",
    "        elif user_input == 'print': #для проверки значений во время работы программы\n",
    "            print(documents)\n",
    "            print()\n",
    "            print(directories)\n",
    "            print()\n",
    "        elif user_input == 'x':\n",
    "            print('До свидания')\n",
    "            break"
   ]
  },
  {
   "cell_type": "code",
   "execution_count": 19,
   "metadata": {},
   "outputs": [
    {
     "name": "stdout",
     "output_type": "stream",
     "text": [
      "\n"
     ]
    }
   ],
   "source": [
    "main()\n"
   ]
  },
  {
   "cell_type": "markdown",
   "metadata": {},
   "source": [
    "Необходимо реализовать пользовательские команды (внимание! это не название функций, которые должны быть выразительными, а команды, которые вводит пользователь, чтобы получить необходимый результат):\n",
    "  \n",
    "- p – people – команда, которая спросит номер документа и выведет имя человека, которому он принадлежит;  \n",
    "- s – shelf – команда, которая спросит номер документа и выведет номер полки, на которой он находится  \n",
    "*Правильно обработайте ситуации, когда пользователь будет вводить несуществующий документ*.\n",
    "- l – list – команда, которая выведет список всех документов в формате   \n",
    "**passport \"2207 876234\" \"Василий Гупкин\"**  \n",
    "- as – add shelf – команда, которая спросит номер новой полки и добавит ее в перечень. *Предусмотрите случай, когда пользователь добавляет полку, которая уже существует*.\n",
    "- d – delete – команда, которая спросит номер документа и удалит его из каталога и из перечня полок. *Предусмотрите сценарий, когда пользователь вводит несуществующий документ*;  \n",
    "- m – move – команда, которая спросит номер документа и целевую полку и переместит его с текущей полки на целевую. *Корректно обработайте кейсы, когда пользователь пытается переместить несуществующий документ или переместить документ на несуществующую полку*;  \n",
    "- a – add – команда, которая добавит новый документ в каталог и в перечень полок, спросив его номер, тип, имя владельца и номер полки, на котором он будет храниться. *Корректно обработайте ситуацию, когда пользователь будет пытаться добавить документ на несуществующую полку*."
   ]
  },
  {
   "cell_type": "code",
   "execution_count": null,
   "metadata": {},
   "outputs": [],
   "source": []
  }
 ],
 "metadata": {
  "kernelspec": {
   "display_name": "Python 3",
   "language": "python",
   "name": "python3"
  },
  "language_info": {
   "codemirror_mode": {
    "name": "ipython",
    "version": 3
   },
   "file_extension": ".py",
   "mimetype": "text/x-python",
   "name": "python",
   "nbconvert_exporter": "python",
   "pygments_lexer": "ipython3",
   "version": "3.7.6"
  }
 },
 "nbformat": 4,
 "nbformat_minor": 2
}

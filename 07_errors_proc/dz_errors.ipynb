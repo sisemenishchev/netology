{
 "cells": [
  {
   "cell_type": "markdown",
   "metadata": {},
   "source": [
    "<b>Задание 1</b>\n",
    "Напишите функцию date_range, которая возвращает список дней между датами start_date и end_date. Даты должны вводиться в формате YYYY-MM-DD.\n",
    "\n",
    "<b>Задание 2</b>\n",
    "Дополните функцию из первого задания проверкой на корректность дат. В случае неверного формата или если start_date > end_date должен возвращаться пустой список.\n",
    "\n",
    "<b>Задание 3</b>\n",
    "Дан поток дат в формате YYYY-MM-DD, в которых встречаются некорректные значения:\n",
    "stream = [‘2018-04-02’, ‘2018-02-29’, ‘2018-19-02’]\n",
    "\n",
    "Напишите функцию, которая проверяет эти даты на корректность. Т. е. для каждой даты возвращает True (дата корректна) или False (некорректная дата).\n",
    "\n",
    "<b>Задание 4 (бонусное)</b>\n",
    "Ваш коллега прислал код функции:\n",
    "\n",
    "DEFAULT_USER_COUNT = 3\n",
    "\n",
    "def delete_and_return_last_user(region, default_list=[‘A100’, ‘A101’, ‘A102’]):\n",
    "\"\"“\n",
    "Удаляет из списка default_list последнего пользователя\n",
    "и возвращает ID нового последнего пользователя.\n",
    "”\"\"\n",
    "element_to_delete = default_list[-1]\n",
    "default_list.remove(element_to_delete)\n",
    "\n",
    "return default_list[DEFAULT_USER_COUNT-2]\n",
    "При однократном вызове этой функции все работает корректно:\n",
    "delete_and_return_last_user(1)\n",
    "‘A101’\n",
    "\n",
    "Однако, при повторном вызове получается ошибка IndexError: list index out of range.\n",
    "\n",
    "<b>Задание:</b>\n",
    "\n",
    "- Что значит ошибка list index out of range?\n",
    "- Почему при первом запуске функция работает корректно, а при втором - нет?"
   ]
  },
  {
   "cell_type": "code",
   "execution_count": 12,
   "metadata": {},
   "outputs": [
    {
     "name": "stdout",
     "output_type": "stream",
     "text": [
      "Введите начальную дату 2019-01-01\n",
      "Введите конечную дату 2019-02-02\n"
     ]
    },
    {
     "data": {
      "text/plain": [
       "32"
      ]
     },
     "execution_count": 12,
     "metadata": {},
     "output_type": "execute_result"
    }
   ],
   "source": [
    "###############################################################################################\n",
    "############################# ЗАДАНИЕ 1 #######################################################\n",
    "###############################################################################################\n",
    "\n",
    "def date_range(start_dt, end_dt):\n",
    "     from datetime import datetime\n",
    "     dif_days = datetime.strptime(end_dt,'%Y-%m-%d') - datetime.strptime(start_dt,'%Y-%m-%d')\n",
    "     return dif_days.days\n",
    "\n",
    "start_date = input('Введите начальную дату ')\n",
    "end_date = input('Введите конечную дату ')\n",
    "\n",
    "date_range(start_date,end_date)"
   ]
  },
  {
   "cell_type": "code",
   "execution_count": 13,
   "metadata": {},
   "outputs": [
    {
     "name": "stdout",
     "output_type": "stream",
     "text": [
      "Введите начальную дату 2019-02-01\n",
      "Введите конечную дату 2019-01-01\n"
     ]
    },
    {
     "data": {
      "text/plain": [
       "[]"
      ]
     },
     "execution_count": 13,
     "metadata": {},
     "output_type": "execute_result"
    }
   ],
   "source": [
    "###############################################################################################\n",
    "############################# ЗАДАНИЕ 2 #######################################################\n",
    "###############################################################################################\n",
    "\n",
    "def date_range_mod(start_dt, end_dt):\n",
    "    from datetime import datetime\n",
    "    try: \n",
    "        if date_check(end_dt) == 'Ошибка даты (функция проверки)':\n",
    "            return []\n",
    "        elif date_check(start_dt) == 'Ошибка даты (функция проверки)':\n",
    "            return []\n",
    "        elif date_check(start_dt) > date_check(end_dt):\n",
    "            return []\n",
    "        else:\n",
    "            dif_days = date_check(end_date) - date_check(start_date)\n",
    "            return f'{dif_days.days} дней между {start_dt} и {end_dt}'\n",
    "    except:\n",
    "        return 'Ошибка даты (функция)'\n",
    "\n",
    "def date_check(input_date):\n",
    "    from datetime import datetime\n",
    "    try:\n",
    "        return datetime.strptime(input_date,'%Y-%m-%d')\n",
    "    except ValueError:\n",
    "        try:\n",
    "            return datetime.strptime(input_date,'%y-%m-%d')\n",
    "        except ValueError:\n",
    "            try:\n",
    "                return datetime.strptime(input_date,'%Y.%m.%d')\n",
    "            except ValueError:\n",
    "                 try:\n",
    "                    return datetime.strptime(input_date,'%y.%m.%d')\n",
    "                 except ValueError:\n",
    "                    return 'Ошибка даты (функция проверки)'\n",
    "    \n",
    "start_date = input('Введите начальную дату ')\n",
    "end_date = input('Введите конечную дату ')\n",
    "\n",
    "date_range_mod(start_date,end_date)"
   ]
  },
  {
   "cell_type": "code",
   "execution_count": 14,
   "metadata": {},
   "outputs": [
    {
     "name": "stdout",
     "output_type": "stream",
     "text": [
      "2018-04-02 True\n",
      "2018-02-29 False\n",
      "2018-19-02 False\n"
     ]
    }
   ],
   "source": [
    "###############################################################################################\n",
    "############################# ЗАДАНИЕ 3 #######################################################\n",
    "###############################################################################################\n",
    "\n",
    "stream = ['2018-04-02', '2018-02-29', '2018-19-02']\n",
    "\n",
    "def date_check_stream(date_stream):\n",
    "    from datetime import datetime\n",
    "    for date in date_stream:\n",
    "        try:\n",
    "            datetime.strptime(date, '%Y-%m-%d')\n",
    "            print(date, True)\n",
    "        except ValueError:\n",
    "            print(date, False)\n",
    "\n",
    "\n",
    "date_check_stream(stream)"
   ]
  },
  {
   "cell_type": "code",
   "execution_count": 10,
   "metadata": {},
   "outputs": [
    {
     "name": "stdout",
     "output_type": "stream",
     "text": [
      "['A100', 'A101']\n",
      "['A100']\n"
     ]
    },
    {
     "ename": "IndexError",
     "evalue": "list index out of range",
     "output_type": "error",
     "traceback": [
      "\u001b[1;31m---------------------------------------------------------------------------\u001b[0m",
      "\u001b[1;31mIndexError\u001b[0m                                Traceback (most recent call last)",
      "\u001b[1;32m<ipython-input-10-c60157d7e7f1>\u001b[0m in \u001b[0;36m<module>\u001b[1;34m\u001b[0m\n\u001b[0;32m     16\u001b[0m \u001b[1;33m\u001b[0m\u001b[0m\n\u001b[0;32m     17\u001b[0m \u001b[0mdelete_and_return_last_user\u001b[0m\u001b[1;33m(\u001b[0m\u001b[1;36m4\u001b[0m\u001b[1;33m)\u001b[0m\u001b[1;33m\u001b[0m\u001b[1;33m\u001b[0m\u001b[0m\n\u001b[1;32m---> 18\u001b[1;33m \u001b[0mdelete_and_return_last_user\u001b[0m\u001b[1;33m(\u001b[0m\u001b[1;36m4\u001b[0m\u001b[1;33m)\u001b[0m\u001b[1;33m\u001b[0m\u001b[1;33m\u001b[0m\u001b[0m\n\u001b[0m\u001b[0;32m     19\u001b[0m \u001b[1;33m\u001b[0m\u001b[0m\n\u001b[0;32m     20\u001b[0m \u001b[1;33m\u001b[0m\u001b[0m\n",
      "\u001b[1;32m<ipython-input-10-c60157d7e7f1>\u001b[0m in \u001b[0;36mdelete_and_return_last_user\u001b[1;34m(region, default_list)\u001b[0m\n\u001b[0;32m     12\u001b[0m     \u001b[1;32mexcept\u001b[0m\u001b[1;33m:\u001b[0m\u001b[1;33m\u001b[0m\u001b[1;33m\u001b[0m\u001b[0m\n\u001b[0;32m     13\u001b[0m         \u001b[0mprint\u001b[0m\u001b[1;33m(\u001b[0m\u001b[0mdefault_list\u001b[0m\u001b[1;33m)\u001b[0m\u001b[1;33m\u001b[0m\u001b[1;33m\u001b[0m\u001b[0m\n\u001b[1;32m---> 14\u001b[1;33m     \u001b[1;32mreturn\u001b[0m \u001b[0mdefault_list\u001b[0m\u001b[1;33m[\u001b[0m\u001b[0mDEFAULT_USER_COUNT\u001b[0m\u001b[1;33m-\u001b[0m\u001b[1;36m2\u001b[0m\u001b[1;33m]\u001b[0m\u001b[1;33m\u001b[0m\u001b[1;33m\u001b[0m\u001b[0m\n\u001b[0m\u001b[0;32m     15\u001b[0m \u001b[1;33m\u001b[0m\u001b[0m\n\u001b[0;32m     16\u001b[0m \u001b[1;33m\u001b[0m\u001b[0m\n",
      "\u001b[1;31mIndexError\u001b[0m: list index out of range"
     ]
    }
   ],
   "source": [
    "###############################################################################################\n",
    "############################# ЗАДАНИЕ 4 #######################################################\n",
    "###############################################################################################\n",
    "\n",
    "DEFAULT_USER_COUNT = 3\n",
    "\n",
    "def delete_and_return_last_user(region, default_list=['A100', 'A101', 'A102']):\n",
    "    try:\n",
    "        element_to_delete = default_list[-1]\n",
    "        default_list.remove(element_to_delete)\n",
    "        print(default_list)\n",
    "    except:\n",
    "        print(default_list)\n",
    "    return default_list[DEFAULT_USER_COUNT-2]\n",
    "\n",
    "    \n",
    "delete_and_return_last_user(1)\n",
    "delete_and_return_last_user(1)\n",
    "\n",
    "    \n",
    "# 1.  Индекс вне диапазона индексов списка.\n",
    "# 2.  Потому что список уменьшился на 1 элемент, и элемента с индексом 1 нет в диапазоне индексов списка, там есть только 0 - 'A100' (код выше)"
   ]
  }
 ],
 "metadata": {
  "celltoolbar": "Raw Cell Format",
  "kernelspec": {
   "display_name": "Python 3",
   "language": "python",
   "name": "python3"
  },
  "language_info": {
   "codemirror_mode": {
    "name": "ipython",
    "version": 3
   },
   "file_extension": ".py",
   "mimetype": "text/x-python",
   "name": "python",
   "nbconvert_exporter": "python",
   "pygments_lexer": "ipython3",
   "version": "3.7.6"
  }
 },
 "nbformat": 4,
 "nbformat_minor": 4
}

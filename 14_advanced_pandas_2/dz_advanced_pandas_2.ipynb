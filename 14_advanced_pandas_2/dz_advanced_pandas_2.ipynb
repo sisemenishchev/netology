{
 "cells": [
  {
   "cell_type": "code",
   "execution_count": null,
   "metadata": {},
   "outputs": [],
   "source": [
    "import pandas as pd"
   ]
  },
  {
   "cell_type": "code",
   "execution_count": null,
   "metadata": {},
   "outputs": [],
   "source": [
    "## ЗАДАНИЕ 1 ##\n",
    "\n",
    "ratings = pd.read_csv('ratings.csv') \n",
    "new_df = ratings.pivot_table(index = 'userId', values = 'timestamp', aggfunc = ['max', 'min', 'count'], fill_value = 0)\n",
    "new_df = new_df[new_df['count']['timestamp'] > 100]\n",
    "new_df['time_alive'] = new_df['max']['timestamp'] - new_df['min']['timestamp']\n",
    "new_df.time_alive.mean()"
   ]
  },
  {
   "cell_type": "code",
   "execution_count": null,
   "metadata": {},
   "outputs": [],
   "source": [
    "## ЗАДАНИЕ 2 ##\n",
    "\n",
    "rzd = pd.DataFrame(\n",
    "    {\n",
    "        'client_id': [111, 112, 113, 114, 115],\n",
    "        'rzd_revenue': [1093, 2810, 10283, 5774, 981]\n",
    "    }\n",
    ")\n",
    "\n",
    "auto = pd.DataFrame(\n",
    "    {\n",
    "        'client_id': [113, 114, 115, 116, 117],\n",
    "        'auto_revenue': [57483, 83, 912, 4834, 98]\n",
    "    }\n",
    ")\n",
    "\n",
    "air = pd.DataFrame(\n",
    "    {\n",
    "        'client_id': [115, 116, 117, 118],\n",
    "        'air_revenue': [81, 4, 13, 173]\n",
    "    }\n",
    ")\n",
    "\n",
    "client_base = pd.DataFrame(\n",
    "    {\n",
    "        'client_id': [111, 112, 113, 114, 115, 116, 117, 118],\n",
    "        'address': ['Комсомольская 4', 'Энтузиастов 8а', 'Левобережная 1а', 'Мира 14', 'ЗЖБИиДК 1', \n",
    "                    'Строителей 18', 'Панфиловская 33', 'Мастеркова 4']\n",
    "    }\n",
    ")\n",
    "\n",
    "(   \n",
    "    client_base\n",
    "    .merge(rzd, how = 'outer', on = 'client_id')\n",
    "    .merge(auto, how = 'outer', on = 'client_id')\n",
    "    .merge(air, how = 'outer', on = 'client_id')\n",
    ") # c указанием адреса\n",
    "\n",
    "\n",
    "(   \n",
    "    rzd\n",
    "    .merge(auto, how = 'outer', on = 'client_id')\n",
    "    .merge(air, how = 'outer', on = 'client_id')\n",
    ") # без указания адреса"
   ]
  },
  {
   "cell_type": "markdown",
   "metadata": {},
   "source": [
    "-# ЗАДАНИЕ 3 ##\n",
    "\n",
    "- Предполагаю, что за покупку можно считать частое повторение каких-то координат или схожих координат (незначительное отклонение)\n",
    "- Это будут разные точки покупок, а, возможно, и нахождение клиента дома или на работе, в зависимости от времени крайних координат.\n",
    "- Например, имея у множества клиентов координаты, можно узнать какое время пиковое для активности в данном магазине или месте, также посчитать проходимость клиентов в сутки или в час и т.д. (наверное аналогично работает система отслеживания пробок в яндекс.картах и тому подобное)"
   ]
  }
 ],
 "metadata": {
  "kernelspec": {
   "display_name": "Python 3",
   "language": "python",
   "name": "python3"
  },
  "language_info": {
   "codemirror_mode": {
    "name": "ipython",
    "version": 3
   },
   "file_extension": ".py",
   "mimetype": "text/x-python",
   "name": "python",
   "nbconvert_exporter": "python",
   "pygments_lexer": "ipython3",
   "version": "3.7.6"
  }
 },
 "nbformat": 4,
 "nbformat_minor": 4
}

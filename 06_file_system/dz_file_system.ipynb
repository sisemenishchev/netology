{
 "cells": [
  {
   "cell_type": "markdown",
   "metadata": {},
   "source": [
    "# Домашнее задание\n",
    "1. Переведите содержимое файла purchase_log.txt в словарь purchases вида:\n",
    "```python\n",
    "{'1840e0b9d4': 'Продукты', ...}\n",
    "```\n",
    "\n",
    "2. Для каждого user_id в файле visit_log.csv определите третий столбец с категорией покупки (если покупка была, сам файл visit_log.csv изменять не надо). Запишите в файл funnel.csv визиты из файла visit_log.csv, в которых были покупки с указанием категории.\n",
    "\n",
    "Учтите условия на данные:\n",
    "- содержимое purchase_log.txt помещается в оперативную память компьютера\n",
    "- содержимое visit_log.csv - нет; используйте только построчную обработку этого файла"
   ]
  },
  {
   "cell_type": "code",
   "execution_count": 1,
   "metadata": {},
   "outputs": [],
   "source": [
    "import json"
   ]
  },
  {
   "cell_type": "code",
   "execution_count": 2,
   "metadata": {},
   "outputs": [],
   "source": [
    "purchase_log_data = open('purchase_log.txt', 'r')\n",
    "purchase_log_dict = {}\n",
    "for line in purchase_log_data.readlines():\n",
    "    line = line.strip()\n",
    "    dict_line = json.loads(line)\n",
    "    purchase_log_dict[dict_line[\"user_id\"]] = dict_line[\"category\"]"
   ]
  },
  {
   "cell_type": "code",
   "execution_count": 3,
   "metadata": {},
   "outputs": [],
   "source": [
    "with open('visit_log.csv') as visit_log, open('visit_log_cat.csv', 'w') as visit_log_cat:\n",
    "    header = visit_log.readline()\n",
    "    visit_log_cat.write(f\"{header.strip()},category\\n\")\n",
    "    for line in visit_log:\n",
    "        visit = line.strip().split(',')\n",
    "        if purchase_log_dict.get(visit[0]) != None:\n",
    "            visit.append(purchase_log_dict.get(visit[0]))\n",
    "        else:\n",
    "            visit.append('')\n",
    "        visit_log_cat.write(f\"{','.join(visit)}\\n\")"
   ]
  },
  {
   "cell_type": "code",
   "execution_count": 5,
   "metadata": {},
   "outputs": [],
   "source": [
    "with open('visit_log_cat.csv') as visit_log_cat, open('funnel.csv', 'w') as funnel:\n",
    "    header = visit_log_cat.readline()\n",
    "    funnel.write(header)\n",
    "    for line in visit_log_cat:\n",
    "        if line.strip().split(',')[2] != '':\n",
    "            funnel.write(line)"
   ]
  }
 ],
 "metadata": {
  "kernelspec": {
   "display_name": "Python 3",
   "language": "python",
   "name": "python3"
  },
  "language_info": {
   "codemirror_mode": {
    "name": "ipython",
    "version": 3
   },
   "file_extension": ".py",
   "mimetype": "text/x-python",
   "name": "python",
   "nbconvert_exporter": "python",
   "pygments_lexer": "ipython3",
   "version": "3.7.6"
  }
 },
 "nbformat": 4,
 "nbformat_minor": 4
}

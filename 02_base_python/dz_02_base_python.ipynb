{
 "cells": [
  {
   "cell_type": "markdown",
   "metadata": {},
   "source": [
    "<b>Задание 1.</b> Даны 2 строки: long_phrase и short_phrase. Напишите код, который проверяет действительно ли длинная фраза long_phrase длиннее короткой short_phrase. И выводит True или False в зависимости от результата сравнения."
   ]
  },
  {
   "cell_type": "code",
   "execution_count": 4,
   "metadata": {},
   "outputs": [
    {
     "data": {
      "text/plain": [
       "True"
      ]
     },
     "execution_count": 4,
     "metadata": {},
     "output_type": "execute_result"
    }
   ],
   "source": [
    "long_phrase = 'Насколько проще было бы писать программы, если бы не заказчики'\n",
    "short_phrase = '640Кб должно хватить для любых задач. Билл Гейтс (по легенде)'\n",
    "\n",
    "long_phrase > short_phrase"
   ]
  },
  {
   "cell_type": "markdown",
   "metadata": {},
   "source": [
    "<b>Задание 2.</b> Дано значение объема файла в байтах (в мегабайте 2^20 байт). Напишите перевод этого значения в мегабайты в формате: \"Объем файла равен 213.68Mb\"."
   ]
  },
  {
   "cell_type": "code",
   "execution_count": 7,
   "metadata": {},
   "outputs": [
    {
     "name": "stdout",
     "output_type": "stream",
     "text": [
      "Введите объем файла в байтах40000\n",
      "Объем файла равен 0.04 Mb\n"
     ]
    }
   ],
   "source": [
    "file_size = int(input('Введите объем файла в байтах'))\n",
    "print('Объем файла равен',round(file_size/(2**20),2),'Mb')"
   ]
  },
  {
   "cell_type": "markdown",
   "metadata": {},
   "source": [
    "<b>Задание 3.</b> Разработать приложение для определения знака зодиака по дате рождения. Пример:\n",
    "\n",
    "Введите месяц: март\n",
    "\n",
    "Введите число: 6\n",
    "\n",
    "Вывод: Рыбы"
   ]
  },
  {
   "cell_type": "code",
   "execution_count": 5,
   "metadata": {},
   "outputs": [
    {
     "name": "stdout",
     "output_type": "stream",
     "text": [
      "Введите месяц июль\n",
      "Введите число 8\n",
      "Ваш знак зодиака - Рак\n"
     ]
    }
   ],
   "source": [
    "list_months = ['ЯНВАРЬ','ФЕВРАЛЬ','МАРТ','АПРЕЛЬ','МАЙ','ИЮНЬ','ИЮЛЬ','АВГУСТ','СЕНТЯБРЬ','ОКТЯБРЬ','НОЯБРЬ','ДЕКАБРЬ']\n",
    "month = str(input('Введите месяц '))\n",
    "if month.upper() not in list_months:\n",
    "    print('Ошибка в месяце')\n",
    "else:\n",
    "    day = int((input('Введите число ')))\n",
    "if (month.upper() == 'МАРТ' and day >= 21) or (month.upper() == 'АПРЕЛЬ' and day <= 20):\n",
    "    print('Ваш знак зодиака - Овен')\n",
    "elif (month.upper() == 'АПРЕЛЬ' and day >= 21) or (month.upper() == 'МАЙ' and day <= 20):\n",
    "    print('Ваш знак зодиака - Телец')\n",
    "elif (month.upper() == 'МАЙ' and day >= 21) or (month.upper() == 'ИЮНЬ' and day <= 21):\n",
    "    print('Ваш знак зодиака - Близнецы')\n",
    "elif (month.upper() == 'ИЮНЬ' and day >= 22) or (month.upper() == 'ИЮЛЬ' and day <= 22):\n",
    "    print('Ваш знак зодиака - Рак')\n",
    "elif (month.upper() == 'ИЮЛЬ' and day >= 23) or (month.upper() == 'АВГУСТ' and day <= 23):\n",
    "    print('Ваш знак зодиака - Лев')\n",
    "elif (month.upper() == 'АВГУСТ' and day >= 24) or (month.upper() == 'СЕНТЯБРЬ' and day <= 23):\n",
    "    print('Ваш знак зодиака - Дева')\n",
    "elif (month.upper() == 'СЕНТЯБРЬ' and day >= 24) or (month.upper() == 'ОКТЯБРЬ' and day <= 23):\n",
    "    print('Ваш знак зодиака - Весы')\n",
    "elif (month.upper() == 'ОКТЯБРЬ' and day >= 24) or (month.upper() == 'НОЯБРЬ' and day <= 22):\n",
    "    print('Ваш знак зодиака - Скорпион')\n",
    "elif (month.upper() == 'НОЯБРЬ' and day >= 23) or (month.upper() == 'ДЕКАБРЬ' and day <= 21):\n",
    "    print('Ваш знак зодиака - Стрелец')\n",
    "elif (month.upper() == 'ДЕКАБРЬ' and day >= 22) or (month.upper() == 'ЯНВАРЬ' and day <= 20):\n",
    "    print('Ваш знак зодиака - Козерог')\n",
    "elif (month.upper() == 'ЯНВАРЬ' and day >= 21) or (month.upper() == 'ФЕВРАЛЬ' and day <= 20):\n",
    "    print('Ваш знак зодиака - Водолей')\n",
    "elif (month.upper() == 'ФЕВРАЛЬ' and day >= 21) or (month.upper() == 'МАРТ' and day <= 20):\n",
    "    print('Ваш знак зодиака - Рыбы')"
   ]
  },
  {
   "cell_type": "markdown",
   "metadata": {},
   "source": [
    "<b>Задание 4.</b> Нужно разработать приложение для финансового планирования. Приложение учитывает сколько уходит на ипотеку, \"на жизнь\" и сколько нужно отложить на пенсию. Пользователь вводит:\n",
    "\n",
    "заработанную плату в месяц.\n",
    "сколько процентов от ЗП уходит на ипотеку.\n",
    "сколько процентов от ЗП уходит \"на жизнь\".\n",
    "сколько раз приходит премия в год.\n",
    "Остальная часть заработанной платы откладывается на пенсию.\n",
    "\n",
    "Также пользователю приходит премия в размере зарплаты, от которой половина уходит на отпуск, а вторая половина откладывается.\n",
    "\n",
    "Программа должна учитывать сколько премий было в год.\n",
    "\n",
    "Нужно вывести сколько денег тратит пользователь на ипотеку и сколько он накопит за год.\n",
    "\n",
    "Пример:\n",
    "\n",
    "Введите заработанную плату в месяц: 100000\n",
    "\n",
    "Введите сколько процентов уходит на ипотеку: 30\n",
    "\n",
    "Введите сколько процентов уходит на жизнь: 50\n",
    "\n",
    "Введите количество премий за год: 2\n",
    "\n",
    "Вывод: На ипотеку было потрачено: 360000 рублей Было накоплено: 340000 рублей"
   ]
  },
  {
   "cell_type": "code",
   "execution_count": 5,
   "metadata": {},
   "outputs": [
    {
     "name": "stdout",
     "output_type": "stream",
     "text": [
      "Введите заработную плату в месяц 100000\n",
      "Введите сколько процентов уходит на ипотеку 30\n",
      "Введите сколько процентов уходит на жизнь 50\n",
      "Введите количество премий за год 2\n",
      "На ипотеку было потрачено: 360000.0\n",
      "Было накоплено: 340000.0\n"
     ]
    }
   ],
   "source": [
    "zp = int(input('Введите заработную плату в месяц '))\n",
    "per_ipoteka = int(input('Введите сколько процентов уходит на ипотеку '))\n",
    "per_life = int(input('Введите сколько процентов уходит на жизнь '))\n",
    "cnt_bonus = int(input('Введите количество премий за год '))\n",
    "print('На ипотеку было потрачено:',zp*(per_ipoteka/100)*12)\n",
    "print('Было накоплено:',(12*zp*(100-per_life-per_ipoteka)/100)+(cnt_bonus*zp*0.5))"
   ]
  },
  {
   "cell_type": "code",
   "execution_count": null,
   "metadata": {},
   "outputs": [],
   "source": []
  }
 ],
 "metadata": {
  "kernelspec": {
   "display_name": "Python 3",
   "language": "python",
   "name": "python3"
  },
  "language_info": {
   "codemirror_mode": {
    "name": "ipython",
    "version": 3
   },
   "file_extension": ".py",
   "mimetype": "text/x-python",
   "name": "python",
   "nbconvert_exporter": "python",
   "pygments_lexer": "ipython3",
   "version": "3.7.6"
  }
 },
 "nbformat": 4,
 "nbformat_minor": 4
}

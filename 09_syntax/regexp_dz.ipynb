{
 "cells": [
  {
   "cell_type": "code",
   "execution_count": 1,
   "metadata": {},
   "outputs": [
    {
     "name": "stdout",
     "output_type": "stream",
     "text": [
      "['к750кт', '750']\n",
      "Номер q750кт750 некорректный!\n",
      "Номер е50кт750 некорректный!\n"
     ]
    }
   ],
   "source": [
    "## ЗАДАЧА 1 ##\n",
    "\n",
    "def check_vehicle_number(vehicle_number):\n",
    "    import re\n",
    "    pattern = r'([аАвВеЕкКмМнНоОрРсСтТуУхХ]{1}\\d{3}[аАвВеЕкКмМнНоОрРсСтТуУхХ]{2})(\\d{2,3})'\n",
    "    result = re.match(pattern, vehicle_number)\n",
    "    if result == None:\n",
    "        return f'Номер {vehicle_number} некорректный!'\n",
    "    else:\n",
    "        result_list = []\n",
    "        result_list.append(result.group(1))\n",
    "        result_list.append(result.group(2))\n",
    "        return result_list\n",
    "\n",
    "print(check_vehicle_number('к750кт750'))\n",
    "print(check_vehicle_number('q750кт750'))\n",
    "print(check_vehicle_number('е50кт750'))"
   ]
  },
  {
   "cell_type": "code",
   "execution_count": 16,
   "metadata": {},
   "outputs": [
    {
     "name": "stdout",
     "output_type": "stream",
     "text": [
      "[]\n",
      "[]\n",
      "[]\n",
      "[]\n",
      "[]\n",
      "['fdff@oasdas.su']\n"
     ]
    }
   ],
   "source": [
    "## ЗАДАЧА 2 ##\n",
    "\n",
    "#по минимальным требованиям\n",
    "\n",
    "import re\n",
    "\n",
    "pattern = r'^[a-zA-Z0-9_.-]{4,}@[a-zA-Z0-9-.]{2,}\\.[a-zA-Z]{2,4}$'\n",
    "print(re.findall(pattern, 'fdff@o.su'))\n",
    "print(re.findall(pattern, 'fdff@orgfgfgsu'))\n",
    "print(re.findall(pattern, 'fdff@orgfgfgsu.r'))\n",
    "print(re.findall(pattern, 'fdff@orgfgfgsu.rttrt'))\n",
    "print(re.findall(pattern, 'fdf@dfddo.su'))\n",
    "print(re.findall(pattern, 'fdff@oasdas.su'))"
   ]
  },
  {
   "cell_type": "code",
   "execution_count": 18,
   "metadata": {},
   "outputs": [
    {
     "data": {
      "text/plain": [
       "'удалить дубли и вывести этот текст, но без дубликатов'"
      ]
     },
     "execution_count": 18,
     "metadata": {},
     "output_type": "execute_result"
    }
   ],
   "source": [
    "## ЗАДАЧА 3 ##\n",
    "\n",
    "my_str = 'удалить дубли дубли и вывести этот этот текст, но без без дубликатов дубликатов'\n",
    "\n",
    "def delete_duplicates(input_my_str):\n",
    "    return re.sub(r'(\\w+)([,\\s]{1,2}\\1)+', r'\\1', input_my_str)\n",
    "    \n",
    "delete_duplicates(my_str)"
   ]
  },
  {
   "cell_type": "code",
   "execution_count": 50,
   "metadata": {},
   "outputs": [
    {
     "name": "stdout",
     "output_type": "stream",
     "text": [
      "+7(955)155-55-51\n",
      "+7(955)255-55-52\n",
      "+7(955)355-55-53\n",
      "+7(955)455-55-54\n",
      "+7(955)555-55-55\n",
      "+7(955)655-55-56\n",
      "+7(955)755-55-57\n"
     ]
    }
   ],
   "source": [
    "## ЗАДАЧА 4 ##\n",
    "\n",
    "def check_phone_number(number_list):\n",
    "    pattern = '(\\+7|8|7)?[+\\-\\s]?[(]?(9[0-9]{2})[)]?[+\\-\\s]?([0-9]{3})[+\\-\\s]?([0-9]{2})[+\\-\\s]?([0-9]{2})'\n",
    "    if(re.match(pattern,number_list)):\n",
    "        return re.sub(pattern,r'+7(\\2)\\3-\\4-\\5',number_list)\n",
    "    else:\n",
    "        return 'некорректный номер'\n",
    "\n",
    "phone_book = [\n",
    "    '+7 955 155-55-51',\n",
    "    '9552555552',\n",
    "    '8(955)355-55-53',\n",
    "    '+7 955 455 55 54',\n",
    "    '7(955) 555-55-55',\n",
    "    '+7+955+655+55+56',\n",
    "    '+7 955+755+55+57'\n",
    "]    \n",
    "  \n",
    "for number in phone_book:\n",
    "    print(check_phone_number(number))"
   ]
  }
 ],
 "metadata": {
  "kernelspec": {
   "display_name": "Python 3",
   "language": "python",
   "name": "python3"
  },
  "language_info": {
   "codemirror_mode": {
    "name": "ipython",
    "version": 3
   },
   "file_extension": ".py",
   "mimetype": "text/x-python",
   "name": "python",
   "nbconvert_exporter": "python",
   "pygments_lexer": "ipython3",
   "version": "3.7.6"
  }
 },
 "nbformat": 4,
 "nbformat_minor": 4
}
